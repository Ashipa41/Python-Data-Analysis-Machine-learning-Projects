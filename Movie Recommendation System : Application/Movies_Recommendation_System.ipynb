{
 "cells": [
  {
   "cell_type": "markdown",
   "metadata": {},
   "source": [
    "# **Movies Recommendation System**\n",
    "## 📌 Overview\n",
    "\n",
    "The Movie Recommendation System is a data-driven application designed to suggest movies based on user preferences. This system utilizes TF-IDF vectorization, cosine similarity, and interactive widgets to generate personalized recommendations. With a dataset containing 25 million rows, the system efficiently processes large-scale data to provide accurate and relevant movie suggestions.\n",
    "\n",
    "![alt text](<image/Screenshot 2025-01-28 at 23.03.03.png>)\n",
    "\n",
    "### **Data Collection** - [Movie Data](https://www.kaggle.com/datasets/parasharmanas/movie-recommendation-system/data)"
   ]
  },
  {
   "cell_type": "markdown",
   "metadata": {},
   "source": [
    "### **Importing the libraries**"
   ]
  },
  {
   "cell_type": "code",
   "execution_count": 12,
   "metadata": {},
   "outputs": [],
   "source": [
    "import pandas as pd\n",
    "import numpy as np\n",
    "from sklearn.feature_extraction.text import TfidfVectorizer\n",
    "from sklearn.metrics.pairwise import cosine_similarity\n",
    "import ipywidgets as widgets\n",
    "from IPython.display import display, clear_output"
   ]
  },
  {
   "cell_type": "markdown",
   "metadata": {},
   "source": [
    "### **Load Data**"
   ]
  },
  {
   "cell_type": "code",
   "execution_count": null,
   "metadata": {},
   "outputs": [],
   "source": [
    "import kagglehub\n",
    "\n",
    "# Download latest version\n",
    "path = kagglehub.dataset_download(\"parasharmanas/movie-recommendation-system\")\n",
    "\n",
    "print(\"Path to dataset files:\", path)"
   ]
  },
  {
   "cell_type": "code",
   "execution_count": 14,
   "metadata": {},
   "outputs": [
    {
     "name": "stdout",
     "output_type": "stream",
     "text": [
      "['ratings.csv', 'movies.csv']\n"
     ]
    }
   ],
   "source": [
    "import os\n",
    "print(os.listdir(path))  # Lists all files in the directory"
   ]
  },
  {
   "cell_type": "code",
   "execution_count": 15,
   "metadata": {},
   "outputs": [],
   "source": [
    "# Assuming the dataset file \n",
    "movies_path = os.path.join(path, 'movies.csv' )\n",
    "ratings_path = os.path.join(path, 'ratings.csv' )\n",
    "\n",
    "movies = pd.read_csv(movies_path, skiprows=[1])\n",
    "ratings = pd.read_csv(ratings_path, skiprows=[1])"
   ]
  },
  {
   "cell_type": "code",
   "execution_count": 16,
   "metadata": {},
   "outputs": [
    {
     "data": {
      "text/html": [
       "<div>\n",
       "<style scoped>\n",
       "    .dataframe tbody tr th:only-of-type {\n",
       "        vertical-align: middle;\n",
       "    }\n",
       "\n",
       "    .dataframe tbody tr th {\n",
       "        vertical-align: top;\n",
       "    }\n",
       "\n",
       "    .dataframe thead th {\n",
       "        text-align: right;\n",
       "    }\n",
       "</style>\n",
       "<table border=\"1\" class=\"dataframe\">\n",
       "  <thead>\n",
       "    <tr style=\"text-align: right;\">\n",
       "      <th></th>\n",
       "      <th>movieId</th>\n",
       "      <th>title</th>\n",
       "      <th>genres</th>\n",
       "    </tr>\n",
       "  </thead>\n",
       "  <tbody>\n",
       "    <tr>\n",
       "      <th>0</th>\n",
       "      <td>2</td>\n",
       "      <td>Jumanji (1995)</td>\n",
       "      <td>Adventure|Children|Fantasy</td>\n",
       "    </tr>\n",
       "    <tr>\n",
       "      <th>1</th>\n",
       "      <td>3</td>\n",
       "      <td>Grumpier Old Men (1995)</td>\n",
       "      <td>Comedy|Romance</td>\n",
       "    </tr>\n",
       "    <tr>\n",
       "      <th>2</th>\n",
       "      <td>4</td>\n",
       "      <td>Waiting to Exhale (1995)</td>\n",
       "      <td>Comedy|Drama|Romance</td>\n",
       "    </tr>\n",
       "    <tr>\n",
       "      <th>3</th>\n",
       "      <td>5</td>\n",
       "      <td>Father of the Bride Part II (1995)</td>\n",
       "      <td>Comedy</td>\n",
       "    </tr>\n",
       "    <tr>\n",
       "      <th>4</th>\n",
       "      <td>6</td>\n",
       "      <td>Heat (1995)</td>\n",
       "      <td>Action|Crime|Thriller</td>\n",
       "    </tr>\n",
       "  </tbody>\n",
       "</table>\n",
       "</div>"
      ],
      "text/plain": [
       "   movieId                               title                      genres\n",
       "0        2                      Jumanji (1995)  Adventure|Children|Fantasy\n",
       "1        3             Grumpier Old Men (1995)              Comedy|Romance\n",
       "2        4            Waiting to Exhale (1995)        Comedy|Drama|Romance\n",
       "3        5  Father of the Bride Part II (1995)                      Comedy\n",
       "4        6                         Heat (1995)       Action|Crime|Thriller"
      ]
     },
     "execution_count": 16,
     "metadata": {},
     "output_type": "execute_result"
    }
   ],
   "source": [
    "# View first rows and columns\n",
    "movies.head()"
   ]
  },
  {
   "cell_type": "code",
   "execution_count": 17,
   "metadata": {},
   "outputs": [
    {
     "data": {
      "text/html": [
       "<div>\n",
       "<style scoped>\n",
       "    .dataframe tbody tr th:only-of-type {\n",
       "        vertical-align: middle;\n",
       "    }\n",
       "\n",
       "    .dataframe tbody tr th {\n",
       "        vertical-align: top;\n",
       "    }\n",
       "\n",
       "    .dataframe thead th {\n",
       "        text-align: right;\n",
       "    }\n",
       "</style>\n",
       "<table border=\"1\" class=\"dataframe\">\n",
       "  <thead>\n",
       "    <tr style=\"text-align: right;\">\n",
       "      <th></th>\n",
       "      <th>userId</th>\n",
       "      <th>movieId</th>\n",
       "      <th>rating</th>\n",
       "      <th>timestamp</th>\n",
       "    </tr>\n",
       "  </thead>\n",
       "  <tbody>\n",
       "    <tr>\n",
       "      <th>0</th>\n",
       "      <td>1</td>\n",
       "      <td>306</td>\n",
       "      <td>3.5</td>\n",
       "      <td>1147868817</td>\n",
       "    </tr>\n",
       "    <tr>\n",
       "      <th>1</th>\n",
       "      <td>1</td>\n",
       "      <td>307</td>\n",
       "      <td>5.0</td>\n",
       "      <td>1147868828</td>\n",
       "    </tr>\n",
       "    <tr>\n",
       "      <th>2</th>\n",
       "      <td>1</td>\n",
       "      <td>665</td>\n",
       "      <td>5.0</td>\n",
       "      <td>1147878820</td>\n",
       "    </tr>\n",
       "    <tr>\n",
       "      <th>3</th>\n",
       "      <td>1</td>\n",
       "      <td>899</td>\n",
       "      <td>3.5</td>\n",
       "      <td>1147868510</td>\n",
       "    </tr>\n",
       "    <tr>\n",
       "      <th>4</th>\n",
       "      <td>1</td>\n",
       "      <td>1088</td>\n",
       "      <td>4.0</td>\n",
       "      <td>1147868495</td>\n",
       "    </tr>\n",
       "  </tbody>\n",
       "</table>\n",
       "</div>"
      ],
      "text/plain": [
       "   userId  movieId  rating   timestamp\n",
       "0       1      306     3.5  1147868817\n",
       "1       1      307     5.0  1147868828\n",
       "2       1      665     5.0  1147878820\n",
       "3       1      899     3.5  1147868510\n",
       "4       1     1088     4.0  1147868495"
      ]
     },
     "execution_count": 17,
     "metadata": {},
     "output_type": "execute_result"
    }
   ],
   "source": [
    "# View first rows and columns\n",
    "ratings.head()"
   ]
  },
  {
   "cell_type": "code",
   "execution_count": 18,
   "metadata": {},
   "outputs": [
    {
     "name": "stdout",
     "output_type": "stream",
     "text": [
      "Shape of the movie data: (62422, 3)\n",
      "Shape of the ratings data: (25000094, 4)\n"
     ]
    }
   ],
   "source": [
    "# Checking Shape of data\n",
    "print(\"Shape of the movie data:\", movies.shape)\n",
    "print(\"Shape of the ratings data:\", ratings.shape)"
   ]
  },
  {
   "cell_type": "code",
   "execution_count": 19,
   "metadata": {},
   "outputs": [
    {
     "name": "stdout",
     "output_type": "stream",
     "text": [
      "Missings values for movie data: 0\n",
      "Missings values for ratings data: 0\n"
     ]
    }
   ],
   "source": [
    "print(\"Missings values for movie data:\",movies.isnull().sum().sum())\n",
    "print(\"Missings values for ratings data:\",ratings.isnull().sum().sum())"
   ]
  },
  {
   "cell_type": "code",
   "execution_count": 20,
   "metadata": {},
   "outputs": [
    {
     "name": "stdout",
     "output_type": "stream",
     "text": [
      "duplicate values for movie data: 0\n",
      "duplicate values for movie data: 0\n"
     ]
    }
   ],
   "source": [
    "print(\"duplicate values for movie data:\", movies.duplicated().sum())\n",
    "print(\"duplicate values for movie data:\", ratings.duplicated().sum())"
   ]
  },
  {
   "cell_type": "code",
   "execution_count": 21,
   "metadata": {},
   "outputs": [],
   "source": [
    "# Compute average rating for each movie\n",
    "movie_ratings = ratings.groupby(\"movieId\")[\"rating\"].mean().round(1).reset_index()\n",
    "movies = movies.merge(movie_ratings, on=\"movieId\", how=\"left\")"
   ]
  },
  {
   "cell_type": "markdown",
   "metadata": {},
   "source": [
    " **TD-IDF vectorisation from sk-learn will be used to build the search engine**"
   ]
  },
  {
   "cell_type": "code",
   "execution_count": 22,
   "metadata": {},
   "outputs": [],
   "source": [
    "# Initialize a TF-IDF Vectorizer on the 'title' column\n",
    "tfidf_vectorizer = TfidfVectorizer(ngram_range=(1, 2))\n",
    "tfidf_matrix = tfidf_vectorizer.fit_transform(movies[\"title\"])"
   ]
  },
  {
   "cell_type": "markdown",
   "metadata": {},
   "source": [
    "**Cosine similarity is use to determine the output**"
   ]
  },
  {
   "cell_type": "code",
   "execution_count": 23,
   "metadata": {},
   "outputs": [],
   "source": [
    "# Function to find similar movies\n",
    "def search(title):\n",
    "    query_vector = tfidf_vectorizer.transform([title])  # Transform input title\n",
    "    similarity = cosine_similarity(query_vector, tfidf_matrix).flatten()  # Compute similarity\n",
    "    indices = np.argpartition(similarity, -5)[-5:]  # Get indices of top 5 similar movies\n",
    "    results = movies.iloc[indices].iloc[::-1]  # Retrieve movie details in descending order of similarity\n",
    "    return results[[\"movieId\", \"title\", \"rating\", \"genres\"]]  # Include genres and ratings in the output\n"
   ]
  },
  {
   "cell_type": "markdown",
   "metadata": {},
   "source": [
    "**Finally, ipywidgets was implemented in the search engine as a widget**"
   ]
  },
  {
   "cell_type": "code",
   "execution_count": 24,
   "metadata": {},
   "outputs": [
    {
     "data": {
      "application/vnd.jupyter.widget-view+json": {
       "model_id": "cbd53d93baef450a81fb32151d28fedf",
       "version_major": 2,
       "version_minor": 0
      },
      "text/plain": [
       "Text(value='', description='Movie Title:')"
      ]
     },
     "metadata": {},
     "output_type": "display_data"
    },
    {
     "data": {
      "application/vnd.jupyter.widget-view+json": {
       "model_id": "f6c502bd03d143a7b6444e63139d0378",
       "version_major": 2,
       "version_minor": 0
      },
      "text/plain": [
       "Output()"
      ]
     },
     "metadata": {},
     "output_type": "display_data"
    }
   ],
   "source": [
    "# Movie search input widget\n",
    "movie_input = widgets.Text(\n",
    "    description='Movie Title:',\n",
    "    disabled=False\n",
    ")\n",
    "movie_list = widgets.Output()\n",
    "\n",
    "# Callback function for dynamic search\n",
    "def on_type(data):\n",
    "    with movie_list:\n",
    "        clear_output(wait=True)\n",
    "        title = data[\"new\"]\n",
    "        if len(title) > 2:  # Ensure input is meaningful\n",
    "            print(f\"Searching for: {title}\")\n",
    "            results = search(title)\n",
    "            display(results)\n",
    "\n",
    "# Attach event listener to the movie input widget\n",
    "movie_input.observe(on_type, names='value')\n",
    "\n",
    "# Display the search interface\n",
    "display(movie_input, movie_list)"
   ]
  }
 ],
 "metadata": {
  "kernelspec": {
   "display_name": "base",
   "language": "python",
   "name": "python3"
  },
  "language_info": {
   "codemirror_mode": {
    "name": "ipython",
    "version": 3
   },
   "file_extension": ".py",
   "mimetype": "text/x-python",
   "name": "python",
   "nbconvert_exporter": "python",
   "pygments_lexer": "ipython3",
   "version": "3.11.8"
  }
 },
 "nbformat": 4,
 "nbformat_minor": 2
}
