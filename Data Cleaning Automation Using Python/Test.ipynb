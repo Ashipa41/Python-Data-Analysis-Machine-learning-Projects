{
 "cells": [
  {
   "cell_type": "code",
   "execution_count": 1,
   "metadata": {},
   "outputs": [],
   "source": [
    "import pandas as pd\n",
    "from app import Data_Cleaning"
   ]
  },
  {
   "cell_type": "code",
   "execution_count": 2,
   "metadata": {},
   "outputs": [
    {
     "name": "stdout",
     "output_type": "stream",
     "text": [
      "Dataset has been received and is ready for processing.\n",
      "Please wait for 3 seconds! Checking file path...\n",
      "Dataset is an Excel file!\n",
      "Please wait for 3 seconds! Checking total columns and rows...\n",
      "Dataset contains Total Rows: 24\n",
      "Total Columns: 10\n",
      "Please wait for 3 seconds! Checking for duplicate values...\n",
      "Total Number of Duplicate Records: 8\n",
      "Duplicate records saved as: sales_duplicates.csv\n",
      "Please wait for 3 seconds! Checking for missing values...\n",
      "Dataset has Total Missing Values: 17\n",
      "Missing values per column:\n",
      "                0\n",
      "Sales_ID        2\n",
      "Product         2\n",
      "Price           2\n",
      "Quantity        3\n",
      "Customer_ID     1\n",
      "Order_Date      2\n",
      "City            2\n",
      "Sales_Rep       0\n",
      "Discount        2\n",
      "Payment_Method  1\n",
      "Please wait for 3 seconds! Cleaning dataset...\n",
      "Please wait for 3 seconds! Exporting cleaned dataset...\n",
      "Congrats! Dataset is cleaned! \n",
      "Number of Rows: 20, Number of Columns: 10\n",
      "Cleaned dataset saved as: sales_Clean_data.csv\n"
     ]
    }
   ],
   "source": [
    "Data_Cleaning(\"sales.xlsx\", \"sales\")\n",
    "#             file_name  &  Add any name you want for your dataste"
   ]
  },
  {
   "cell_type": "code",
   "execution_count": 3,
   "metadata": {},
   "outputs": [
    {
     "name": "stdout",
     "output_type": "stream",
     "text": [
      "Dataset has been received and is ready for processing.\n",
      "Please wait for 3 seconds! Checking file path...\n",
      "Dataset is a CSV file!\n",
      "Please wait for 3 seconds! Checking total columns and rows...\n",
      "Dataset contains Total Rows: 6810\n",
      "Total Columns: 12\n",
      "Please wait for 3 seconds! Checking for duplicate values...\n",
      "Total Number of Duplicate Records: 0\n",
      "No duplicate records found.\n",
      "Please wait for 3 seconds! Checking for missing values...\n",
      "Dataset has Total Missing Values: 5326\n",
      "Missing values per column:\n",
      "                   0\n",
      "isbn13             0\n",
      "isbn10             0\n",
      "title              0\n",
      "subtitle        4429\n",
      "authors           72\n",
      "categories        99\n",
      "thumbnail        329\n",
      "description      262\n",
      "published_year     6\n",
      "average_rating    43\n",
      "num_pages         43\n",
      "ratings_count     43\n",
      "Please wait for 3 seconds! Cleaning dataset...\n",
      "Please wait for 3 seconds! Exporting cleaned dataset...\n",
      "Congrats! Dataset is cleaned! \n",
      "Number of Rows: 6810, Number of Columns: 12\n",
      "Cleaned dataset saved as: books_Clean_data.csv\n"
     ]
    }
   ],
   "source": [
    "Data_Cleaning(\"books.csv\", \"books\")\n",
    "#             file_name  &  Add any name you want for your dataste"
   ]
  },
  {
   "cell_type": "code",
   "execution_count": 4,
   "metadata": {},
   "outputs": [
    {
     "name": "stdout",
     "output_type": "stream",
     "text": [
      "Dataset has been received and is ready for processing.\n",
      "Please wait for 4 seconds! Checking file path...\n",
      "Dataset is an Excel file!\n",
      "Please wait for 4 seconds! Checking total columns and rows...\n",
      "Dataset contains Total Rows: 29\n",
      "Total Columns: 9\n",
      "Please wait for 4 seconds! Checking for duplicate values...\n",
      "Total Number of Duplicate Records: 16\n",
      "Duplicate records saved as: walmart_duplicates.csv\n",
      "Please wait for 4 seconds! Checking for missing values...\n",
      "Dataset has Total Missing Values: 14\n",
      "Missing values per column:\n",
      "                 0\n",
      "invoice_id       0\n",
      "branch           4\n",
      "city             0\n",
      "age             10\n",
      "gender           0\n",
      "total            0\n",
      "date             0\n",
      "payment_method   0\n",
      "rating           0\n",
      "Please wait for 4 seconds! Cleaning dataset...\n",
      "Please wait for 4 seconds! Exporting cleaned dataset...\n",
      "Congrats! Dataset is cleaned! \n",
      "Number of Rows: 19, Number of Columns: 9\n",
      "Cleaned dataset saved as: walmart_Clean_data.csv\n"
     ]
    }
   ],
   "source": [
    "Data_Cleaning(\"walmart.xlsx\", \"walmart\")\n",
    "#             file_name  &  Add any name you want for your dataste"
   ]
  }
 ],
 "metadata": {
  "kernelspec": {
   "display_name": "base",
   "language": "python",
   "name": "python3"
  },
  "language_info": {
   "codemirror_mode": {
    "name": "ipython",
    "version": 3
   },
   "file_extension": ".py",
   "mimetype": "text/x-python",
   "name": "python",
   "nbconvert_exporter": "python",
   "pygments_lexer": "ipython3",
   "version": "3.11.8"
  }
 },
 "nbformat": 4,
 "nbformat_minor": 2
}
